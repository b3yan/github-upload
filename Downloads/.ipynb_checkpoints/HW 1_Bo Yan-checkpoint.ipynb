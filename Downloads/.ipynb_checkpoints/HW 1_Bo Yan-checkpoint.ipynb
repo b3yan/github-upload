{
 "cells": [
  {
   "cell_type": "markdown",
   "metadata": {},
   "source": [
    "# Assignment 1\n",
    "\n",
    "# MAS DSE200"
   ]
  },
  {
   "cell_type": "markdown",
   "metadata": {},
   "source": [
    "## Instructions\n",
    "\n",
    "* The homework should be submitted via Canvas.\n",
    "* You don’t need to explain your approach (unless specified) so please be concise in your submission. \n",
    "* To obtain full marks for a question, both the answer and the code should be correct. \n",
    "* Completely wrong (or missing) code with correct answer will result in zero marks. \n",
    "* Please code the solution in the space provided."
   ]
  },
  {
   "cell_type": "markdown",
   "metadata": {},
   "source": [
    "### 1.  Write a program to swap a string and an int variable and print their data types to verify the swapping operation\n",
    "\n",
    "* Initialize 2 variables my_int = 5 , and my_str = \"Hi\"\n",
    "* Swap these variables such that my_int now holds the value of my_str and vice versa\n",
    "* Verify this by printing their data types"
   ]
  },
  {
   "cell_type": "code",
   "execution_count": 1,
   "metadata": {},
   "outputs": [
    {
     "name": "stdout",
     "output_type": "stream",
     "text": [
      "Value of my_int =  Hi\n",
      "Data type of my_int =  <class 'str'>\n",
      "Value of my_str =  5\n",
      "Data type of my_str =  <class 'int'>\n"
     ]
    }
   ],
   "source": [
    "# COMPLETE THE CELL BELOW\n",
    "\n",
    "my_int = 5\n",
    "my_str = \"Hi\"\n",
    "\n",
    "swap = my_int\n",
    "\n",
    "my_int = my_str\n",
    "my_str = swap\n",
    "\n",
    "print (\"Value of my_int = \", my_int)\n",
    "print (\"Data type of my_int = \", type(my_int))\n",
    "print (\"Value of my_str = \", my_str)\n",
    "print (\"Data type of my_str = \", type(my_str))"
   ]
  },
  {
   "cell_type": "markdown",
   "metadata": {},
   "source": [
    "### 2. Write a Python Program to Calculate the length of the diagonal of a rectangle\n",
    "\n",
    "* Initialize the 2 sides of the rectangle a and b to 5 and 6\n",
    "* Calculate the length of the diagonal using the formula - diagonal = √(a^2 + b^2)"
   ]
  },
  {
   "cell_type": "code",
   "execution_count": 2,
   "metadata": {},
   "outputs": [
    {
     "name": "stdout",
     "output_type": "stream",
     "text": [
      "The length of the diagonal of the rectangle is 7.81\n"
     ]
    }
   ],
   "source": [
    "# COMPLETE THE CELL BELOW \n",
    "import math\n",
    "\n",
    "a = 5\n",
    "b = 6\n",
    "\n",
    "diagonal = math.sqrt(a**2 + b**2) # calculate the diagonal length\n",
    "\n",
    "print('The length of the diagonal of the rectangle is %0.2f' %diagonal)"
   ]
  },
  {
   "cell_type": "markdown",
   "metadata": {},
   "source": [
    "### 3. Write a Python Program to Check if a Number is divisible by 3\n",
    "\n",
    "* Initialize a variable that takes input from user\n",
    "* Check and print if the number is divisible by 3"
   ]
  },
  {
   "cell_type": "code",
   "execution_count": 3,
   "metadata": {},
   "outputs": [
    {
     "name": "stdin",
     "output_type": "stream",
     "text": [
      "Please enter a number:  7839\n"
     ]
    },
    {
     "name": "stdout",
     "output_type": "stream",
     "text": [
      "7839 is divisible by 3.\n"
     ]
    }
   ],
   "source": [
    "# COMPLETE CELL BELOW\n",
    "\n",
    "num = int(input(\"Please enter a number: \")) # Take input from user \n",
    "\n",
    "# Check if the number is divisible by 3\n",
    "if num % 3 == 0:\n",
    "    print (\"{} is divisible by 3.\".format(num))\n",
    "else:\n",
    "    print ((\"{} is NOT divisible by 3.\".format(num)))"
   ]
  },
  {
   "cell_type": "markdown",
   "metadata": {},
   "source": [
    "### 4. Write a Python Program to Check if a number has exactly 3 digits(no zeros allowed at the beginning and the number can be assumed to be positive)\n",
    "\n",
    "* Initialize a variable that takes input from user(input will be given as a string)\n",
    "* Check and print if the number has exactly 3 digits(no zeros allowed at the beginning)\n",
    "* Read about type casting in python and use type casting from string to int"
   ]
  },
  {
   "cell_type": "code",
   "execution_count": 4,
   "metadata": {},
   "outputs": [
    {
     "name": "stdin",
     "output_type": "stream",
     "text": [
      "Please enter a number:  659\n"
     ]
    },
    {
     "name": "stdout",
     "output_type": "stream",
     "text": [
      "659 has exactly 3 digits(no zeros allowed at the beginning).\n"
     ]
    }
   ],
   "source": [
    "# COMPLETE THE CELL BELOW\n",
    "\n",
    "num = str(input(\"Please enter a number: \")) # Take input from user\n",
    "\n",
    "# Check if the number has exactly 3 digits\n",
    "if len(num) == 3 and int(num)/100 >= 1:\n",
    "    print (\"{} has exactly 3 digits(no zeros allowed at the beginning).\".format(num))\n",
    "else:\n",
    "    print (\"{} doesn't have exactly 3 digits(no zeros allowed at the beginning).\".format(num))"
   ]
  },
  {
   "cell_type": "markdown",
   "metadata": {},
   "source": [
    "### 5. Write a Python Program to Check Whether a String is Palindrome or Not\n",
    "\n",
    "* Initialize a string\n",
    "* Lower case it to allow easy comparison\n",
    "* Check using if-else statements if the string is a palindrome \n",
    "* A palindrome is a string which is same read forward or backwards."
   ]
  },
  {
   "cell_type": "code",
   "execution_count": 5,
   "metadata": {},
   "outputs": [
    {
     "name": "stdout",
     "output_type": "stream",
     "text": [
      "YckaIbohPphoBiAKCy is a Palindrome.\n"
     ]
    }
   ],
   "source": [
    "# COMPLETE CELL BELOW \n",
    "\n",
    "my_str = 'YckaIbohPphoBiAKCy' # change this value for a different output\n",
    "\n",
    "l = my_str.lower()\n",
    "\n",
    "for i in range(0,len(l)):\n",
    "    if l[i] == l[len(l)-1-i]:\n",
    "        if ((i == len(l) - 1 - i) and (len(l)%2 == 1)) or ((i == len(l) - 2 - i) and (len(l)%2 == 0)):\n",
    "            print (\"{} is a Palindrome.\".format(my_str)) \n",
    "    else:\n",
    "        print (\"{} isn't a Palindrome.\".format(my_str)) \n",
    "        break"
   ]
  },
  {
   "cell_type": "markdown",
   "metadata": {},
   "source": [
    "### 6.  **Print numbers divisible by 5 between 4 and 30, inclusive**\n",
    "\n",
    "* Iterate through the numbers in the for loop and notice the way range has been used to generate numbers in the for loop\n",
    "* Print only the numbers divisible by 5 using if statement"
   ]
  },
  {
   "cell_type": "code",
   "execution_count": 6,
   "metadata": {},
   "outputs": [
    {
     "name": "stdout",
     "output_type": "stream",
     "text": [
      "5\n",
      "10\n",
      "15\n",
      "20\n",
      "25\n",
      "30\n"
     ]
    }
   ],
   "source": [
    "# COMPLETE THE CELL BELOW \n",
    "\n",
    "limit = range(4,31)\n",
    "for number in limit: # Complete the loop\n",
    "    if number % 5 == 0:\n",
    "        print(number)"
   ]
  },
  {
   "cell_type": "markdown",
   "metadata": {},
   "source": [
    "### 7. Write a Python Program to print the first n numbers of the Fibonacci series starting from 0\n",
    "\n",
    "* Initialize a variable n that denotes the number of elements of the Fibonacci series to be computed\n",
    "* Use a loop to print the first n numbers of the Fibonacci series: 0,1,1,2,3,....\n"
   ]
  },
  {
   "cell_type": "code",
   "execution_count": 7,
   "metadata": {},
   "outputs": [
    {
     "name": "stdout",
     "output_type": "stream",
     "text": [
      "The first 5 numbers of the Fibonacci series is [0, 1, 1, 2, 3].\n"
     ]
    }
   ],
   "source": [
    "# COMPLETE CELL BELOW\n",
    "       \n",
    "n = 5\n",
    "f_list = []\n",
    "\n",
    "for i in range(0, n):\n",
    "    if i == 0:\n",
    "        f_list.append(0)\n",
    "    elif i == 1:\n",
    "        f_list.append(f_list[0] + 1)\n",
    "    else:\n",
    "        f_list.append(f_list[i-1] + f_list[i-2])\n",
    "\n",
    "print (\"The first {} numbers of the Fibonacci series is {}.\".format(n, f_list)) "
   ]
  },
  {
   "cell_type": "markdown",
   "metadata": {},
   "source": [
    "### 8. Write a Python Program that defines a function to Remove Vowels From a String\n",
    "\n",
    "* You can initialize a string of your choice \n",
    "* Define the function \n",
    "* Use a for loop to remove vowels"
   ]
  },
  {
   "cell_type": "code",
   "execution_count": 8,
   "metadata": {},
   "outputs": [
    {
     "name": "stdout",
     "output_type": "stream",
     "text": [
      "['H', 'l', 'l', ',', ' ', 'h', 'w', ' ', 'r', ' ', 'y', '?', '.', ' ', ' ', 'h', 'p', ' ', 'y', ' ', 'r', ' ', 'd', 'n', 'g', ' ', 'w', 'l', 'l', '.']\n"
     ]
    }
   ],
   "source": [
    "# COMPLETE THE CELL BELOW \n",
    "\n",
    "vowels = '''aeiouAEIOU''' # define vowels\n",
    "\n",
    "def removeVowel(s): # Complete the function using a for loop\n",
    "    s = [i for i in s if i not in vowels]\n",
    "    return s\n",
    "    \n",
    "my_str = \"Hello, how are you?. I hope you are doing well.\"\n",
    "# my_str = input(\"Enter a string: \") # To take input from the user\n",
    "\n",
    "print (removeVowel(my_str))"
   ]
  },
  {
   "cell_type": "markdown",
   "metadata": {},
   "source": [
    "### 9. **Write a program to define a function that takes two numbers as arguments and returns the sum of all numbers between the arguments passed (exclusive, i.e. excluding the limits)**\n",
    "\n",
    "* You can define a range of your choice\n",
    "* Define the function \n",
    "* Use a for loop to add numbers within the range(exclusive)"
   ]
  },
  {
   "cell_type": "code",
   "execution_count": 9,
   "metadata": {},
   "outputs": [
    {
     "name": "stdout",
     "output_type": "stream",
     "text": [
      "Result is 30\n"
     ]
    }
   ],
   "source": [
    "# COMPLETE THE CELL BELOW\n",
    "\n",
    "def sum(a, b): # Complete the function using a for loop and use range() to iterate over the numbers\n",
    "    \n",
    "    if a < b:\n",
    "        step = 1\n",
    "    elif a > b:\n",
    "        step = -1\n",
    "    else:\n",
    "        return 0\n",
    "    \n",
    "    t = 0   \n",
    "    for i in range(a + step, b, step):\n",
    "        t += i\n",
    "    return t\n",
    "\n",
    "a = 5\n",
    "b = 10\n",
    "total = sum(a, b)\n",
    "print (\"Result is\", total)"
   ]
  },
  {
   "cell_type": "markdown",
   "metadata": {},
   "source": [
    "### 10. Define a class named Triangle that can calculate the area\n",
    "\n",
    "* The class can be constructed by the length of the sides\n",
    "* The class has a method which can compute the area using the formula area = √(s(s-a)(s-b)(s-c)) where s=(a+b+c)/2 is the semi-perimeter"
   ]
  },
  {
   "cell_type": "code",
   "execution_count": 10,
   "metadata": {},
   "outputs": [
    {
     "name": "stdout",
     "output_type": "stream",
     "text": [
      "The area of this triangle is 6.0\n"
     ]
    }
   ],
   "source": [
    "# COMPLETE CELL BELOW \n",
    "\n",
    "import math\n",
    "\n",
    "class Triangle:\n",
    "    def __init__(self, a, b, c):\n",
    "        self.a = a\n",
    "        self.b = b\n",
    "        self.c = c    \n",
    "    \n",
    "    def area(self):\n",
    "        s = (self.a + self.b + self.c)/2\n",
    "        area = math.sqrt(s*(s - a)*(s - b)*(s - c))\n",
    "        return area\n",
    "\n",
    "# test case\n",
    "a = 3\n",
    "b = 4\n",
    "c = 5\n",
    "\n",
    "init = Triangle(a, b, c)\n",
    "area = init.area()\n",
    "\n",
    "print (\"The area of this triangle is {}\".format(area))"
   ]
  },
  {
   "cell_type": "code",
   "execution_count": null,
   "metadata": {},
   "outputs": [],
   "source": []
  }
 ],
 "metadata": {
  "kernelspec": {
   "display_name": "Python 3",
   "language": "python",
   "name": "python3"
  },
  "language_info": {
   "codemirror_mode": {
    "name": "ipython",
    "version": 3
   },
   "file_extension": ".py",
   "mimetype": "text/x-python",
   "name": "python",
   "nbconvert_exporter": "python",
   "pygments_lexer": "ipython3",
   "version": "3.8.5"
  }
 },
 "nbformat": 4,
 "nbformat_minor": 4
}
